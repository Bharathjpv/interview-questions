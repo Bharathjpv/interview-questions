{
 "cells": [
  {
   "attachments": {},
   "cell_type": "markdown",
   "metadata": {},
   "source": [
    "## Python interview questions"
   ]
  },
  {
   "attachments": {},
   "cell_type": "markdown",
   "metadata": {},
   "source": [
    "### Beginner"
   ]
  },
  {
   "attachments": {},
   "cell_type": "markdown",
   "metadata": {},
   "source": [
    "#### Write Python code to sort a numerical dataset?"
   ]
  },
  {
   "cell_type": "code",
   "execution_count": 36,
   "metadata": {},
   "outputs": [
    {
     "data": {
      "text/plain": [
       "[1, 5, 8, 13, 16]"
      ]
     },
     "execution_count": 36,
     "metadata": {},
     "output_type": "execute_result"
    }
   ],
   "source": [
    "list_1 = [ \"13\", \"16\", \"1\", \"5\" , \"8\"]\n",
    "list_1 = [int(x) for x in list_1]\n",
    "list_1.sort()\n",
    "list_1"
   ]
  },
  {
   "attachments": {},
   "cell_type": "markdown",
   "metadata": {},
   "source": [
    "#### Define a function that take list as a input and caculates the mean of it"
   ]
  },
  {
   "cell_type": "code",
   "execution_count": 37,
   "metadata": {},
   "outputs": [
    {
     "data": {
      "text/plain": [
       "6.0"
      ]
     },
     "execution_count": 37,
     "metadata": {},
     "output_type": "execute_result"
    }
   ],
   "source": [
    "def average(a):\n",
    "    return sum(a)/len(a)\n",
    "\n",
    "average([2,6,5,8,9])"
   ]
  },
  {
   "attachments": {},
   "cell_type": "markdown",
   "metadata": {},
   "source": [
    "#### Write a Python program to find the area of a circle."
   ]
  },
  {
   "cell_type": "code",
   "execution_count": 45,
   "metadata": {},
   "outputs": [
    {
     "data": {
      "text/plain": [
       "78.55"
      ]
     },
     "execution_count": 45,
     "metadata": {},
     "output_type": "execute_result"
    }
   ],
   "source": [
    "def circ_Area(rad):\n",
    "\tPI = 3.142\n",
    "\treturn PI * (rad*rad)\n",
    "\n",
    "circ_Area(5)"
   ]
  },
  {
   "attachments": {},
   "cell_type": "markdown",
   "metadata": {},
   "source": [
    "### Intermediate"
   ]
  },
  {
   "attachments": {},
   "cell_type": "markdown",
   "metadata": {},
   "source": [
    "#### Write a program to count the number of capital letters in a file?"
   ]
  },
  {
   "cell_type": "code",
   "execution_count": 38,
   "metadata": {},
   "outputs": [
    {
     "data": {
      "text/plain": [
       "6"
      ]
     },
     "execution_count": 38,
     "metadata": {},
     "output_type": "execute_result"
    }
   ],
   "source": [
    "with open('text.txt') as countletter:\n",
    "    count = 0\n",
    "    text = countletter.read()\n",
    "    for character in text:\n",
    "        if character.isupper():\n",
    "            count += 1\n",
    "count"
   ]
  },
  {
   "attachments": {},
   "cell_type": "markdown",
   "metadata": {},
   "source": [
    "#### Write a python program to check weather given number is odd or even"
   ]
  },
  {
   "cell_type": "code",
   "execution_count": 39,
   "metadata": {},
   "outputs": [
    {
     "name": "stdout",
     "output_type": "stream",
     "text": [
      "15 is a odd number\n",
      "10 is a even number\n"
     ]
    }
   ],
   "source": [
    "def od_ev(a):\n",
    "    if a%2 == 0:\n",
    "        print(f'{a} is a even number')\n",
    "    else:\n",
    "        print(f'{a} is a odd number')\n",
    "\n",
    "od_ev(15)\n",
    "od_ev(10)"
   ]
  },
  {
   "attachments": {},
   "cell_type": "markdown",
   "metadata": {},
   "source": [
    "#### Write a programme to return the maximum and minimum number in given list"
   ]
  },
  {
   "cell_type": "code",
   "execution_count": 41,
   "metadata": {},
   "outputs": [
    {
     "name": "stdout",
     "output_type": "stream",
     "text": [
      "Maximum number is 9\n",
      "Minimum number is 0\n"
     ]
    }
   ],
   "source": [
    "def minmax(a):\n",
    "    print(f'Maximum number is {max(a)}')\n",
    "    print(f'Minimum number is {min(a)}')\n",
    "\n",
    "minmax([1,5,6,3,2,4,8,9,1,0])"
   ]
  },
  {
   "attachments": {},
   "cell_type": "markdown",
   "metadata": {},
   "source": [
    "### Advance"
   ]
  },
  {
   "attachments": {},
   "cell_type": "markdown",
   "metadata": {},
   "source": [
    "#### Write a program in Python to produce a Star triangle?"
   ]
  },
  {
   "cell_type": "code",
   "execution_count": 42,
   "metadata": {},
   "outputs": [
    {
     "name": "stdout",
     "output_type": "stream",
     "text": [
      "    * \n",
      "   * * \n",
      "  * * * \n",
      " * * * * \n",
      "* * * * * \n"
     ]
    }
   ],
   "source": [
    "def triangle(n):\n",
    "\tk = n - 1\n",
    "\tfor i in range(0, n):\n",
    "\t\tfor j in range(0, k):\n",
    "\t\t\tprint(end=\" \")\n",
    "\t\tk = k - 1\n",
    "\t\tfor j in range(0, i+1):\n",
    "\n",
    "\t\t\tprint(\"* \", end=\"\")\n",
    "\t\tprint(\"\\r\")\n",
    "triangle(5)\n"
   ]
  },
  {
   "attachments": {},
   "cell_type": "markdown",
   "metadata": {},
   "source": [
    "#### Wrete a function to calculate the factoril of a given number"
   ]
  },
  {
   "cell_type": "code",
   "execution_count": 43,
   "metadata": {},
   "outputs": [
    {
     "name": "stdout",
     "output_type": "stream",
     "text": [
      "factorial of 4 is: 24\n",
      "factorial of 5 is: 120\n",
      "factorial of 10 is: 3628800\n"
     ]
    }
   ],
   "source": [
    "def factorial(a):\n",
    "    res = 1\n",
    "    for i in range(a):\n",
    "        res *= i+1\n",
    "    print(f\"factorial of {a} is: {res}\")\n",
    "\n",
    "factorial(4)\n",
    "factorial(5)\n",
    "factorial(10)"
   ]
  },
  {
   "attachments": {},
   "cell_type": "markdown",
   "metadata": {},
   "source": [
    "#### Write a programe to check weather a given number is prime number of not"
   ]
  },
  {
   "cell_type": "code",
   "execution_count": 44,
   "metadata": {},
   "outputs": [
    {
     "name": "stdout",
     "output_type": "stream",
     "text": [
      "6 is not a prime number\n"
     ]
    }
   ],
   "source": [
    "prime_num = int(input(\"Enter a number to check whether it is prime or not: \"))\n",
    "if prime_num > 1:\n",
    "    for i in range(2, int(prime_num/2)+1):\n",
    "        if (prime_num % i) == 0:\n",
    "            print(prime_num, \"is not a prime number\")\n",
    "            break\n",
    "        else:\n",
    "            print(prime_num, \"is a prime number\")\n",
    "else:\n",
    "    print(prime_num, \"is not a prime number\")"
   ]
  }
 ],
 "metadata": {
  "kernelspec": {
   "display_name": "Python 3",
   "language": "python",
   "name": "python3"
  },
  "language_info": {
   "codemirror_mode": {
    "name": "ipython",
    "version": 3
   },
   "file_extension": ".py",
   "mimetype": "text/x-python",
   "name": "python",
   "nbconvert_exporter": "python",
   "pygments_lexer": "ipython3",
   "version": "3.10.9"
  },
  "orig_nbformat": 4,
  "vscode": {
   "interpreter": {
    "hash": "9a8159912dc77a684a7cef6b46c9524695127ed9865276fa05b262b7632be07c"
   }
  }
 },
 "nbformat": 4,
 "nbformat_minor": 2
}
